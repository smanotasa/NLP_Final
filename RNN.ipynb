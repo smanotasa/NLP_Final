{
  "cells": [
    {
      "cell_type": "markdown",
      "metadata": {
        "id": "J3UZ2EuoNvCc"
      },
      "source": [
        "# Recurrent Neural Network Model:"
      ]
    },
    {
      "cell_type": "markdown",
      "metadata": {
        "id": "Bg9txmrpN6Pj"
      },
      "source": [
        "## 0. Set-up"
      ]
    },
    {
      "cell_type": "code",
      "execution_count": 35,
      "metadata": {
        "id": "z682XYsrjkY9"
      },
      "outputs": [],
      "source": [
        "#Libraries\n",
        "\n",
        "import numpy as np\n",
        "import pandas as pd\n",
        "import tensorflow as tf\n",
        "import tensorflow_datasets as tfds\n",
        "import matplotlib.pyplot as plt\n",
        "from sklearn.metrics import recall_score, precision_score, f1_score"
      ]
    },
    {
      "cell_type": "code",
      "execution_count": 36,
      "metadata": {
        "colab": {
          "base_uri": "https://localhost:8080/"
        },
        "id": "FL1gAXrJztSI",
        "outputId": "0848f1ea-b335-4cab-f084-79c340e1895b"
      },
      "outputs": [
        {
          "name": "stdout",
          "output_type": "stream",
          "text": [
            "Drive already mounted at /content/drive; to attempt to forcibly remount, call drive.mount(\"/content/drive\", force_remount=True).\n"
          ]
        }
      ],
      "source": [
        "#For running in colab\n",
        "\n",
        "from google.colab import drive\n",
        "drive.mount('/content/drive')\n",
        "main_path='/content/drive/My Drive/NLP/'"
      ]
    },
    {
      "cell_type": "markdown",
      "metadata": {
        "id": "0EqW_G7tAaJa"
      },
      "source": [
        "Imported datasets are not necessary here, the tensorflow library has a streamlined version of the *HuggingFace* dataset we are using. Thus, we will use this one in the RNN configuration for ease of input."
      ]
    },
    {
      "cell_type": "code",
      "execution_count": 3,
      "metadata": {
        "id": "eMCXTg1OztSI"
      },
      "outputs": [],
      "source": [
        "#train_data = pd.read_csv(main_path+'train.csv').sample(frac=1).reset_index(drop=True)\n",
        "#test_data = pd.read_csv(main_path+'test.csv').sample(frac=1).reset_index(drop=True)\n",
        "#unsupervised_data = pd.read_csv(main_path+'unsupervised.csv').sample(frac=1).reset_index(drop=True)"
      ]
    },
    {
      "cell_type": "code",
      "execution_count": 6,
      "metadata": {
        "id": "t3CZqPrtL2Cl"
      },
      "outputs": [],
      "source": [
        "#Converting the dataframe to Tensorflow Dataset (if we were to use the .csv directly)\n",
        "#\n",
        "#features = 'text'\n",
        "#target = 'label'\n",
        "#\n",
        "#train_data = (\n",
        "#    tf.data.Dataset.from_tensor_slices(\n",
        "#        (\n",
        "#            tf.cast(train_data[features].values, tf.string),\n",
        "#            tf.cast(test_data[target].values, tf.int64)\n",
        "#        )\n",
        "#    )\n",
        "#)\n",
        "#\n",
        "#test_data = (\n",
        "#    tf.data.Dataset.from_tensor_slices(\n",
        "#        (\n",
        "#            tf.cast(test_data[features].values, tf.string),\n",
        "#            tf.cast(test_data[target].values, tf.int64)\n",
        "#        )\n",
        "#    )\n",
        "#)"
      ]
    },
    {
      "cell_type": "code",
      "execution_count": 37,
      "metadata": {
        "id": "u08T6c2fAH3p"
      },
      "outputs": [],
      "source": [
        "#Import data\n",
        "dataset, info = tfds.load('imdb_reviews', with_info=True,\n",
        "                          as_supervised=True)\n",
        "train_tf, test_tf = dataset['train'], dataset['test']"
      ]
    },
    {
      "cell_type": "code",
      "execution_count": 38,
      "metadata": {
        "id": "dDsCaZCDYZgm"
      },
      "outputs": [],
      "source": [
        "#Dataset shuffling and batching\n",
        "\n",
        "BUFFER_SIZE = 10000 #ensuring an uniform draw for batch pairings\n",
        "BATCH_SIZE = 64 #samples processed before update\n",
        "\n",
        "train_data = train_tf.shuffle(BUFFER_SIZE).batch(BATCH_SIZE).prefetch(tf.data.AUTOTUNE)\n",
        "test_data = test_tf.batch(BATCH_SIZE).prefetch(tf.data.AUTOTUNE)"
      ]
    },
    {
      "cell_type": "code",
      "execution_count": 22,
      "metadata": {
        "id": "uC25Lu1Yvuqy"
      },
      "outputs": [],
      "source": [
        "#Defining the the text encoder\n",
        "#The layer's vocabulary will come from the vectorization of our reviews (after multiple re-runs, we expand the vocabulary size for comprehensiveness and accuracy)\n",
        "\n",
        "size = 2000\n",
        "encoder = tf.keras.layers.TextVectorization(\n",
        "    max_tokens=size)\n",
        "encoder.adapt(train_data.map(lambda text, label: text))\n",
        "\n",
        "vocab = np.array(encoder.get_vocabulary())"
      ]
    },
    {
      "cell_type": "markdown",
      "metadata": {
        "id": "bjUqGVBxGw-t"
      },
      "source": [
        "## 1. Models"
      ]
    },
    {
      "attachments": {},
      "cell_type": "markdown",
      "metadata": {
        "id": "bgs6nnSTGw-t"
      },
      "source": [
        "### 1.1. Single layer:\n",
        "\n",
        "We've built a binary text classification model using an RNN to classify these movie reviews as positive (1) or negative (0). The model is constructed using TensorFlow's Keras Sequential API:\n",
        "\n",
        "1. Encoding: Converts text into a sequence of token indices.\n",
        "2. Embedding: Transforms word indices into trainable vectors, grouping words with similar meanings; uses masking to handle the varying sequence-lengths. \n",
        "3. Bidirectional LSTM: Processes the input sequence in both directions, capturing information from the beginning and end of the input.\n",
        "4. Two Dense layers: Perform final processing and output a single logit for classification.\n",
        "\n",
        "For the first one, we decided to use a single-layer apporach with a Dense layer with 64 neurons and a ReLU (Rectified Linear Unit) activation function is used for further processing after the bidirectional LSTM layer; The given its popular usage in neural networks for mitigating vanishing gradient shortcomings. Find the one layer approach commented here.\n",
        "\n",
        "When ReLU is used in the last layer, the model may still learn a decision boundary, but interpreting the outputs as probabilities becomes challenging since they may move outside the required 0 to 1 range.\n",
        "\n",
        "Note however, that our code was finally set with a sigmoid function given no vanishing gradient problem was found and accuracies were considerably higher given the logit approach; for summarization we went with a bi-layer approach given performance metrics (further on in the notebook).\n",
        "\n",
        "In comparison, setting a last layer with a sigmoid activation function translates the output to the range between 0 and 1; making it more appropriate for binary classification. When applying the binary cross-entropy loss function,it represents the likelihood of the positive class, allowing for clearer understanding. We did not use a softmax function, according to [HuggingFace](https://www.analyticsvidhya.com/blog/2022/04/building-state-of-the-art-text-classifier-using-huggingface-and-tensorflow/). \"Since the model outputs just the logits, we need to apply softmax activation to convert the values into probabilities. We use softmax and not sigmoid activation because softmax converts logits of multiple classes into the range 0 to 1, therefore suitable for multi-class classification.\" Which is not our case."
      ]
    },
    {
      "cell_type": "code",
      "execution_count": null,
      "metadata": {
        "id": "LwfoBkmRYcP3"
      },
      "outputs": [],
      "source": [
        "model_ol = tf.keras.Sequential([\n",
        "    # Adding the encoder layer\n",
        "    encoder,\n",
        "    \n",
        "    # Adding the Embedding layer\n",
        "    tf.keras.layers.Embedding(\n",
        "        input_dim=len(encoder.get_vocabulary()),  # Vocabulary size\n",
        "        output_dim=64,  # Size of the word vectors (embedding dimension)\n",
        "        mask_zero=True  # Masking for handling variable sequence lengths\n",
        "    ),\n",
        "    \n",
        "    # Now for the bidirectional LSTM layer\n",
        "    tf.keras.layers.Bidirectional(tf.keras.layers.LSTM(64)),\n",
        "    \n",
        "    # And the layer for activation\n",
        "    tf.keras.layers.Dense(64, activation='sigmoid'),\n",
        "    \n",
        "    # Finally, a single-neuron layer for logit classification\n",
        "    tf.keras.layers.Dense(1)\n",
        "])\n"
      ]
    },
    {
      "cell_type": "code",
      "execution_count": null,
      "metadata": {
        "colab": {
          "base_uri": "https://localhost:8080/"
        },
        "id": "87a8-CwfKebw",
        "outputId": "2631d827-1e1a-4f27-917d-26d4f19ab4f6"
      },
      "outputs": [
        {
          "name": "stdout",
          "output_type": "stream",
          "text": [
            "[False, True, True, True, True]\n"
          ]
        }
      ],
      "source": [
        "#Revising the embedding layer\n",
        "print([layer.supports_masking for layer in model_ol.layers])"
      ]
    },
    {
      "cell_type": "code",
      "execution_count": null,
      "metadata": {
        "id": "kj2xei41YZjC"
      },
      "outputs": [],
      "source": [
        "#Compiling the model for use and its given metrics\n",
        "model_ol.compile(loss=tf.keras.losses.BinaryCrossentropy(from_logits=True),\n",
        "              optimizer=tf.keras.optimizers.Adam(1e-4),\n",
        "              metrics=['accuracy'])"
      ]
    },
    {
      "cell_type": "code",
      "execution_count": null,
      "metadata": {
        "colab": {
          "base_uri": "https://localhost:8080/"
        },
        "id": "hw86wWS4YgR2",
        "outputId": "cc9a25cd-5092-4320-bacc-ea60f6a07b4e"
      },
      "outputs": [
        {
          "name": "stdout",
          "output_type": "stream",
          "text": [
            "Epoch 1/10\n",
            "391/391 [==============================] - 48s 97ms/step - loss: 0.6430 - accuracy: 0.6050 - val_loss: 1.3267 - val_accuracy: 5.2083e-04\n",
            "Epoch 2/10\n",
            "391/391 [==============================] - 24s 61ms/step - loss: 0.6636 - accuracy: 0.5668 - val_loss: 1.2048 - val_accuracy: 0.0698\n",
            "Epoch 3/10\n",
            "391/391 [==============================] - 25s 65ms/step - loss: 0.5844 - accuracy: 0.6701 - val_loss: 0.9827 - val_accuracy: 0.6792\n",
            "Epoch 4/10\n",
            "391/391 [==============================] - 23s 58ms/step - loss: 0.4406 - accuracy: 0.7811 - val_loss: 0.5988 - val_accuracy: 0.8229\n",
            "Epoch 5/10\n",
            "391/391 [==============================] - 22s 57ms/step - loss: 0.3240 - accuracy: 0.8642 - val_loss: 0.6174 - val_accuracy: 0.8016\n",
            "Epoch 6/10\n",
            "391/391 [==============================] - 23s 58ms/step - loss: 0.2950 - accuracy: 0.8766 - val_loss: 0.5313 - val_accuracy: 0.8161\n",
            "Epoch 7/10\n",
            "391/391 [==============================] - 23s 58ms/step - loss: 0.2812 - accuracy: 0.8824 - val_loss: 0.4554 - val_accuracy: 0.8573\n",
            "Epoch 8/10\n",
            "391/391 [==============================] - 23s 58ms/step - loss: 0.2727 - accuracy: 0.8862 - val_loss: 0.4554 - val_accuracy: 0.8536\n",
            "Epoch 9/10\n",
            "391/391 [==============================] - 23s 60ms/step - loss: 0.2625 - accuracy: 0.8917 - val_loss: 0.4852 - val_accuracy: 0.8354\n",
            "Epoch 10/10\n",
            "391/391 [==============================] - 23s 58ms/step - loss: 0.2602 - accuracy: 0.8945 - val_loss: 0.4905 - val_accuracy: 0.8255\n"
          ]
        }
      ],
      "source": [
        "history = model_ol.fit(train_data, epochs=10,\n",
        "                    validation_data=train_data,\n",
        "                    validation_steps=30)"
      ]
    },
    {
      "cell_type": "markdown",
      "metadata": {
        "id": "r_JoMZ2sduc2"
      },
      "source": [
        "### 1.2. Multi-layer\n",
        "\n",
        "The code below defines a more complex model with additional layers and metrics: Two bidirectional LSTM layers are used instead of one. The first LSTM layer has 64 units and returns sequences (`return_sequences=True`); allowing the second bidirectional LSTM layer with 32 units to process the sequence output of the first layer. After this, a Dense layer with 64 neurons and sigmoid activation is added. Before finalizing the output, the Dropout layer of 0.5 is introduced; thus preventing overfitting by randomly setting a fraction of the input units to 0\n",
        "\n",
        "The [Keras documentation](https://github.com/tensorflow/text/blob/master/docs/tutorials/images/layered_bidirectional.png?raw=1) illustrates this approach."
      ]
    },
    {
      "cell_type": "code",
      "execution_count": 40,
      "metadata": {
        "id": "jo1jjO3vn0jo"
      },
      "outputs": [],
      "source": [
        "model = tf.keras.Sequential([\n",
        "    #Encoding and Embedding\n",
        "    encoder,\n",
        "    tf.keras.layers.Embedding(len(encoder.get_vocabulary()), 64, mask_zero=True),\n",
        "\n",
        "    #2 bi-directional LSTMs\n",
        "    tf.keras.layers.Bidirectional(tf.keras.layers.LSTM(64,  return_sequences=True)),\n",
        "    tf.keras.layers.Bidirectional(tf.keras.layers.LSTM(32)),\n",
        "\n",
        "    #Setting the dense layer with activation\n",
        "    tf.keras.layers.Dense(64, activation='sigmoid'),\n",
        "\n",
        "    #Droput for overfit prevention\n",
        "    tf.keras.layers.Dropout(0.5),\n",
        "\n",
        "    #Classification\n",
        "    tf.keras.layers.Dense(1)\n",
        "])"
      ]
    },
    {
      "cell_type": "code",
      "execution_count": 57,
      "metadata": {
        "id": "hEPV5jVGp-is"
      },
      "outputs": [],
      "source": [
        "# Compiling the model with loss, optimizer, and evaluation metrics\n",
        "model.compile(loss=tf.keras.losses.BinaryCrossentropy(from_logits=True),\n",
        "              optimizer=tf.keras.optimizers.Adam(1e-4),\n",
        "              metrics=['accuracy', tf.keras.metrics.Precision(), tf.keras.metrics.Recall()])"
      ]
    },
    {
      "cell_type": "code",
      "execution_count": 58,
      "metadata": {
        "colab": {
          "base_uri": "https://localhost:8080/"
        },
        "id": "LeSE-YjdqAeN",
        "outputId": "a73e712e-6dc0-4aca-a485-1c7c41074849"
      },
      "outputs": [
        {
          "name": "stdout",
          "output_type": "stream",
          "text": [
            "Epoch 1/10\n",
            "391/391 [==============================] - 101s 212ms/step - loss: 0.2745 - accuracy: 0.8933 - precision: 0.9203 - recall: 0.8611 - val_loss: 0.3165 - val_accuracy: 0.8729 - val_precision: 0.9169 - val_recall: 0.8248\n",
            "Epoch 2/10\n",
            "391/391 [==============================] - 55s 140ms/step - loss: 0.2726 - accuracy: 0.8935 - precision: 0.9204 - recall: 0.8616 - val_loss: 0.3161 - val_accuracy: 0.8661 - val_precision: 0.9215 - val_recall: 0.8053\n",
            "Epoch 3/10\n",
            "391/391 [==============================] - 65s 165ms/step - loss: 0.2618 - accuracy: 0.8986 - precision: 0.9254 - recall: 0.8670 - val_loss: 0.3199 - val_accuracy: 0.8698 - val_precision: 0.9079 - val_recall: 0.8279\n",
            "Epoch 4/10\n",
            "391/391 [==============================] - 56s 142ms/step - loss: 0.2647 - accuracy: 0.8958 - precision: 0.9212 - recall: 0.8656 - val_loss: 0.3237 - val_accuracy: 0.8708 - val_precision: 0.9053 - val_recall: 0.8330\n",
            "Epoch 5/10\n",
            "391/391 [==============================] - 50s 126ms/step - loss: 0.2551 - accuracy: 0.8996 - precision: 0.9277 - recall: 0.8666 - val_loss: 0.3240 - val_accuracy: 0.8781 - val_precision: 0.8849 - val_recall: 0.8740\n",
            "Epoch 6/10\n",
            "391/391 [==============================] - 50s 127ms/step - loss: 0.2510 - accuracy: 0.9022 - precision: 0.9273 - recall: 0.8728 - val_loss: 0.3254 - val_accuracy: 0.8719 - val_precision: 0.8850 - val_recall: 0.8596\n",
            "Epoch 7/10\n",
            "391/391 [==============================] - 53s 135ms/step - loss: 0.2475 - accuracy: 0.9050 - precision: 0.9309 - recall: 0.8750 - val_loss: 0.3180 - val_accuracy: 0.8719 - val_precision: 0.8985 - val_recall: 0.8432\n",
            "Epoch 8/10\n",
            "391/391 [==============================] - 56s 141ms/step - loss: 0.2539 - accuracy: 0.9000 - precision: 0.9317 - recall: 0.8634 - val_loss: 0.3328 - val_accuracy: 0.8661 - val_precision: 0.8920 - val_recall: 0.8381\n",
            "Epoch 9/10\n",
            "391/391 [==============================] - 57s 145ms/step - loss: 0.2389 - accuracy: 0.9098 - precision: 0.9362 - recall: 0.8796 - val_loss: 0.3276 - val_accuracy: 0.8714 - val_precision: 0.8975 - val_recall: 0.8432\n",
            "Epoch 10/10\n",
            "391/391 [==============================] - 52s 133ms/step - loss: 0.2367 - accuracy: 0.9105 - precision: 0.9358 - recall: 0.8814 - val_loss: 0.3265 - val_accuracy: 0.8693 - val_precision: 0.9050 - val_recall: 0.8299\n"
          ]
        }
      ],
      "source": [
        "history = model.fit(train_data, epochs=10,\n",
        "                    validation_data=test_data,\n",
        "                    validation_steps=30)"
      ]
    },
    {
      "cell_type": "code",
      "execution_count": 59,
      "metadata": {
        "colab": {
          "base_uri": "https://localhost:8080/"
        },
        "id": "_LdwilM1qPM3",
        "outputId": "9d3f6a4f-328b-4669-e872-f37410385463"
      },
      "outputs": [
        {
          "name": "stdout",
          "output_type": "stream",
          "text": [
            "Loss of bi-layer RNN in test data: 0.32636401057243347\n",
            "Accuracy of bi-layer RNN in test data: 0.8643199801445007\n",
            "Precision Metric of bi-layer RNN in test data: 0.8988439440727234\n",
            "Recall Score of bi-layer RNN in test data: 0.8210399746894836\n"
          ]
        }
      ],
      "source": [
        "loss, accuracy, precision, recall = model.evaluate(test_data, verbose=0)\n",
        "\n",
        "print('Loss of bi-layer RNN in test data:', loss)\n",
        "print('Accuracy of bi-layer RNN in test data:', accuracy)\n",
        "print('Precision Metric of bi-layer RNN in test data:', precision)\n",
        "print('Recall Score of bi-layer RNN in test data:', recall)"
      ]
    },
    {
      "cell_type": "code",
      "execution_count": 70,
      "metadata": {
        "id": "MReB8FIPZP_2"
      },
      "outputs": [],
      "source": [
        "metrics_dict = {'Model': '2-Layer bi-directional LSTM Recurring Neural Network', 'F1': accuracy, 'Precision': precision, 'Recall': recall}"
      ]
    },
    {
      "cell_type": "code",
      "execution_count": 77,
      "metadata": {
        "id": "TtAS0zBYjA4O"
      },
      "outputs": [],
      "source": [
        "metrics = pd.DataFrame(metrics_dict, index=[0])\n",
        "metrics.to_csv(main_path + 'rnn_metrics.csv')"
      ]
    },
    {
      "cell_type": "code",
      "execution_count": 62,
      "metadata": {
        "colab": {
          "base_uri": "https://localhost:8080/",
          "height": 472
        },
        "id": "eIqdIpgLhUiW",
        "outputId": "d23c6961-0154-4228-d9c1-2a691b5d3c3f"
      },
      "outputs": [
        {
          "data": {
            "image/png": "[encoded data removed]",
            "text/plain": [
              "<Figure size 640x480 with 1 Axes>"
            ]
          },
          "metadata": {},
          "output_type": "display_data"
        }
      ],
      "source": [
        "plt.plot(history.history['loss'])\n",
        "plt.title('Loss Convergence')\n",
        "plt.ylabel('Loss')\n",
        "plt.xlabel('Epoch')\n",
        "plt.show()"
      ]
    },
    {
      "cell_type": "markdown",
      "metadata": {
        "id": "Qy1h9J87hoGF"
      },
      "source": [
        "The spiking but downward trend in the loss during training could indicate that the model is learning from the data, but the training process is not smooth. Even with a `Dropout` layer, `val_loss` behavior is an indication that the model is overfitting to the training data. This is addressed with the next set of models (BERT); also why metrics are higher in sample but lower out-of-sample."
      ]
    },
    {
      "cell_type": "code",
      "execution_count": 65,
      "metadata": {
        "colab": {
          "base_uri": "https://localhost:8080/",
          "height": 472
        },
        "id": "_YYub0EDtwCu",
        "outputId": "2bc9f665-a714-4175-9a16-5727aa8203f8"
      },
      "outputs": [
        {
          "data": {
            "image/png": "[encoded data removed]",
            "text/plain": [
              "<Figure size 640x480 with 1 Axes>"
            ]
          },
          "metadata": {},
          "output_type": "display_data"
        }
      ],
      "source": [
        "plt.plot(history.history['accuracy'])\n",
        "plt.title('Accuracy Convergence')\n",
        "plt.ylabel('Acurracy')\n",
        "plt.xlabel('Epoch')\n",
        "plt.show()"
      ]
    },
    {
      "cell_type": "markdown",
      "metadata": {
        "id": "SXFFWSdjkOHb"
      },
      "source": [
        "## 2. Bias analysis\n",
        "\n",
        "One way to perform the bias analysis is comparing the predictions from the models on the reviews that contains words related to gender and with the actual labels of those reviews."
      ]
    },
    {
      "cell_type": "code",
      "execution_count": 79,
      "metadata": {
        "id": "3aVtlhP5lyF1"
      },
      "outputs": [],
      "source": [
        "# Function to get metrics\n",
        "\n",
        "def get_metrics(y_trues, y_preds, verbose=True):\n",
        "\n",
        "  recall = recall_score(y_trues, y_preds) * 100\n",
        "  precision = precision_score(y_trues, y_preds) * 100\n",
        "  f1 = f1_score(y_trues, y_preds) * 100\n",
        "\n",
        "  if verbose:\n",
        "    print(f'Precision: {precision:.2f}')\n",
        "    print(f'Recall: {recall:.2f}')\n",
        "    print(f'F1: {f1:.2f}')\n",
        "     "
      ]
    },
    {
      "cell_type": "code",
      "execution_count": 80,
      "metadata": {
        "colab": {
          "base_uri": "https://localhost:8080/"
        },
        "id": "qxDPoBn_kNzF",
        "outputId": "9c07ec41-cabb-4333-cea5-811db8a57f39"
      },
      "outputs": [
        {
          "name": "stdout",
          "output_type": "stream",
          "text": [
            "782/782 [==============================] - 31s 40ms/step\n",
            "2LSTM RNN - Performance on reviews mentioning male characters:\n",
            "Precision: 89.91\n",
            "Recall: 82.09\n",
            "F1: 85.82\n",
            "2LSTM RNN - Performance on reviews mentioning female characters:\n",
            "Precision: 89.67\n",
            "Recall: 81.50\n",
            "F1: 85.39\n"
          ]
        }
      ],
      "source": [
        "# Create two subsets of the test data: one containing only reviews that mention male characters, and one containing only reviews that mention female characters\n",
        "\n",
        "test_data = pd.read_csv(main_path+'test.csv').sample(frac=1).reset_index(drop=True)\n",
        "X_test = test_data['text']\n",
        "y_test = test_data['label']\n",
        "\n",
        "#Since predict_classes is deprecated from TensorFlow 2.6.0 onwards\n",
        "y_pred = (model.predict(X_test) > 0.5).astype(\"int32\")\n",
        "\n",
        "male_idxs = [idx for idx, review in enumerate(X_test) if \"he\" in review.lower() or \"his\" in review.lower() or \"him\" in review.lower()]# or \"man\" in review.lower() or \"men\" in review.lower()]\n",
        "female_idxs = [idx for idx, review in enumerate(X_test) if \"she\" in review.lower() or \"her\" in review.lower() or \"hers\" in review.lower()]# or \"woman\" in review.lower() or \"women\" in review.lower()]\n",
        "\n",
        "X_test_male = [X_test[i] for i in male_idxs]\n",
        "y_test_male = y_test[male_idxs]\n",
        "y_pred_male = y_pred[male_idxs]\n",
        "\n",
        "X_test_female = [X_test[i] for i in female_idxs]\n",
        "y_test_female = y_test[female_idxs]\n",
        "y_pred_female = y_pred[female_idxs]\n",
        "\n",
        "# Evaluate the model's performance on each subset separately\n",
        "\n",
        "print(\"2LSTM RNN - Performance on reviews mentioning male characters:\")\n",
        "metrics_male = get_metrics(y_test_male, y_pred_male)\n",
        "\n",
        "print(\"2LSTM RNN - Performance on reviews mentioning female characters:\")\n",
        "metrics_female = get_metrics(y_test_female, y_pred_female)"
      ]
    },
    {
      "cell_type": "markdown",
      "metadata": {
        "id": "drhNW3p2mLr6"
      },
      "source": [
        "The performance of various models appears to be better for reviews discussing male characters compared to those discussing female characters, based on overall metrics. This discrepancy may arise from biased data or training processes. If the training data disproportionately features reviews or characters that are male, the models might become more proficient at predicting sentiments for male-centric reviews and characters, leading to improved performance in those cases."
      ]
    }
  ],
  "metadata": {
    "accelerator": "GPU",
    "colab": {
      "provenance": []
    },
    "gpuClass": "standard",
    "kernelspec": {
      "display_name": "Python 3",
      "name": "python3"
    },
    "language_info": {
      "name": "python",
      "version": "3.9.13"
    }
  },
  "nbformat": 4,
  "nbformat_minor": 0
}
